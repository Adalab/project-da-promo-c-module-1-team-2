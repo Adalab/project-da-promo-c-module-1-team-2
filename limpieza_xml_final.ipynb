{
 "cells": [
  {
   "cell_type": "markdown",
   "metadata": {},
   "source": [
    "## Limpieza del archivo .xml\n",
    "Este código sirve para la lectura, limpieza y actualización de archivos xml.\n",
    "Para usarlo, es necesario que **el archivo esté en la carpeta actual**.\n",
    "\n",
    "Se deben seguir los siguientes pasos:\n",
    "\n",
    "- xml = Procesado_xml('nombre-de-tu-archivo.xml')\n",
    "\n",
    "- xml_limpio = xml.limpieza_xml()\n",
    "\n",
    "Como resultado, se obtiene el archivo limpio en forma de lista.\n",
    "\n",
    "En este mismo archivo dejamos las celdas necesarias con este código para su ejecución.\n"
   ]
  },
  {
   "cell_type": "code",
   "execution_count": null,
   "metadata": {},
   "outputs": [],
   "source": [
    "import re\n",
    "import os\n",
    "import xml.etree.ElementTree as ET\n",
    "\n",
    "class Procesado_xml:\n",
    "    '''Usaremos esta clase para lectura y limpieza de archivo xml.\n",
    "    Contiene dos métodos uno de lectura (lectura_xml) y otro de limpieza (limpieza_xml).\n",
    "    En el de limpieza también se incluye el de lectura.\n",
    "    Return: Una lista del archivo procesado y limpio.'''\n",
    "\n",
    "    def __init__(self, ruta_archivo_xml):\n",
    "        self.ruta_archivo_xml = ruta_archivo_xml\n",
    "    # Métodos: funciones de lectura y de limpieza\n",
    "    def lectura_xml(self):\n",
    "        tree = ET.parse(self.ruta_archivo_xml)\n",
    "        root = tree.getroot()\n",
    "\n",
    "        xml_list = []\n",
    "        for child in root:\n",
    "            xml_dict = {}\n",
    "            for subchild in child:\n",
    "                xml_dict[subchild.tag] = subchild.text\n",
    "            xml_list.append(xml_dict) # Es una lista que contiene diccionarios\n",
    "        \n",
    "        return xml_list\n",
    "\n",
    "    def limpieza_xml (self):\n",
    "        xml_list = self.lectura_xml()\n",
    "        for i in xml_list:\n",
    "            if i['gender'] == '0':\n",
    "                i['gender'] = 'man'\n",
    "            elif i['gender'] == '1':\n",
    "                i['gender'] = 'woman'\n",
    "            elif i['gender'] == '2':\n",
    "                i['gender'] = 'nonbinary'\n",
    "            elif i['gender'] == '3':\n",
    "                i['gender'] = 'prefer not to say'\n",
    "            elif i['gender'] == '4':\n",
    "                i['gender'] = 'prefer to self-describe'\n",
    "        for i in xml_list:\n",
    "            i.pop('level_0')\n",
    "    \n",
    "        return  xml_list"
   ]
  },
  {
   "cell_type": "code",
   "execution_count": null,
   "metadata": {},
   "outputs": [],
   "source": [
    "xml = Procesado_xml('data_xml.xml')"
   ]
  },
  {
   "cell_type": "code",
   "execution_count": null,
   "metadata": {},
   "outputs": [],
   "source": [
    "xml_list = xml.limpieza_xml()"
   ]
  }
 ],
 "metadata": {
  "kernelspec": {
   "display_name": "Python 3.10.6 64-bit",
   "language": "python",
   "name": "python3"
  },
  "language_info": {
   "name": "python",
   "version": "3.10.6"
  },
  "orig_nbformat": 4,
  "vscode": {
   "interpreter": {
    "hash": "916dbcbb3f70747c44a77c7bcd40155683ae19c65e1c03b4aa3499c5328201f1"
   }
  }
 },
 "nbformat": 4,
 "nbformat_minor": 2
}
