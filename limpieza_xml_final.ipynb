{
 "cells": [
  {
   "cell_type": "markdown",
   "metadata": {},
   "source": [
    "## Limpieza del archivo .xml\n",
    "Este código sirve para la lectura, limpieza y actualización de archivos xml.\n",
    "Para usarlo, es necesario que **el archivo esté en la carpeta actual**.\n",
    "\n",
    "Se deben seguir los siguientes pasos:\n",
    "\n",
    "- xml = Procesado_xml('nombre-de-tu-archivo.xml')\n",
    "\n",
    "- xml_limpio = xml.limpieza_xml()\n",
    "\n",
    "Como resultado, se obtiene el archivo limpio en forma de lista.\n",
    "\n",
    "En este mismo archivo dejamos las celdas necesarias con este código para su ejecución.\n"
   ]
  },
  {
   "cell_type": "code",
   "execution_count": 1,
   "metadata": {},
   "outputs": [],
   "source": [
    "import re\n",
    "import os\n",
    "import xml.etree.ElementTree as ET\n",
    "\n",
    "class Procesado_xml:\n",
    "    '''Usaremos esta clase para lectura y limpieza de archivo xml.\n",
    "    Contiene dos métodos uno de lectura (lectura_xml) y otro de limpieza (limpieza_xml).\n",
    "    En el de limpieza también se incluye el de lectura.\n",
    "    Return: Una lista del archivo procesado y limpio.'''\n",
    "\n",
    "    def __init__(self, ruta_archivo_xml):\n",
    "        self.ruta_archivo_xml = ruta_archivo_xml\n",
    "    # Métodos: funciones de lectura y de limpieza\n",
    "    def lectura_xml(self):\n",
    "        tree = ET.parse(self.ruta_archivo_xml)\n",
    "        root = tree.getroot()\n",
    "\n",
    "        xml_list = []\n",
    "        for child in root:\n",
    "            xml_dict = {}\n",
    "            for subchild in child:\n",
    "                xml_dict[subchild.tag] = subchild.text\n",
    "            xml_list.append(xml_dict) # Es una lista que contiene diccionarios\n",
    "        \n",
    "        return xml_list\n",
    "\n",
    "    def limpieza_xml (self):\n",
    "        xml_list = self.lectura_xml()\n",
    "        for i in xml_list:\n",
    "            if i['gender'] == '0':\n",
    "                i['gender'] = 'man'\n",
    "            elif i['gender'] == '1':\n",
    "                i['gender'] = 'woman'\n",
    "            elif i['gender'] == '2':\n",
    "                i['gender'] = 'nonbinary'\n",
    "            elif i['gender'] == '3':\n",
    "                i['gender'] = 'prefer not to say'\n",
    "            elif i['gender'] == '4':\n",
    "                i['gender'] = 'prefer to self-describe'\n",
    "        for i in xml_list:\n",
    "            i.pop('level_0')\n",
    "        return  xml_list\n",
    "\n",
    "    def conversion_xml(self):\n",
    "        xml_list = self.limpieza_xml()\n",
    "        xml_final = []\n",
    "        for i in xml_list:\n",
    "            tupla = tuple(i.values())\n",
    "            xml_final.append(tupla)\n",
    "        return xml_final"
   ]
  },
  {
   "cell_type": "code",
   "execution_count": 2,
   "metadata": {},
   "outputs": [],
   "source": [
    "xml = Procesado_xml('data_xml.xml')"
   ]
  },
  {
   "cell_type": "code",
   "execution_count": 5,
   "metadata": {},
   "outputs": [],
   "source": [
    "xml_final = xml.conversion_xml()"
   ]
  },
  {
   "cell_type": "code",
   "execution_count": null,
   "metadata": {},
   "outputs": [],
   "source": [
    "# Mediante este código creamos la tabla data_txt en MySQL\n",
    "import mysql.connector\n",
    "\n",
    "cnx = mysql.connector.connect(user='root', password = 'AlumnaAdalab' ,\n",
    "                            host='127.0.0.1', database ='project1')\n",
    "\n",
    "mycursor = cnx.cursor()\n",
    "\n",
    "try:\n",
    "    mycursor.execute(\"\"\"CREATE TABLE data_xml (\n",
    "                            index_xml int not null auto_increment,\n",
    "                            `time` varchar(255),\n",
    "                            age varchar (255),\n",
    "                            gender varchar (255),\n",
    "                            index_sql int,\n",
    "                            primary key (index_xml),\n",
    "                            constraint `fk_data_xml_data_sql` \n",
    "                            foreign key (index_sql)\n",
    "                            references `data_sql` (index_sql)\n",
    "                            on delete cascade on update cascade\n",
    "                            );\"\"\")\n",
    "    print(mycursor)\n",
    "except mysql.connector.Error as err:\n",
    "    print(err)\n",
    "    print(\"Error Code:\", err.errno)\n",
    "    print(\"SQLSTATE\", err.sqlstate)\n",
    "    print(\"Message\", err.msg)\n",
    "\n",
    "mycursor.close()\n",
    "cnx.close()"
   ]
  },
  {
   "cell_type": "code",
   "execution_count": 8,
   "metadata": {},
   "outputs": [],
   "source": [
    "# Función para la insercción de datos a la tabla datos_txt\n",
    "\n",
    "def insercion_datos_xml(datos_xml):\n",
    "    cnx = mysql.connector.connect(user='root', password='AlumnaAdalab',\n",
    "                                host='127.0.0.1', database='project1')\n",
    "\n",
    "\n",
    "    mycursor = cnx.cursor()\n",
    "    \n",
    "    sql = \"\"\"INSERT INTO data_xml (index_xml, `time`, age, gender) VALUES (%s,%s,%s,%s)\"\"\"\n",
    "    val = datos_xml\n",
    "    \n",
    "    try: \n",
    "        mycursor.executemany(sql, val)\n",
    "        cnx.commit()\n",
    "        print(mycursor.rowcount, \"registro insertado.\")\n",
    "\n",
    "    except mysql.connector.Error as err:\n",
    "        print(err)\n",
    "        print(\"Error Code:\", err.errno)\n",
    "        print(\"SQLSTATE\", err.sqlstate)\n",
    "        print(\"Message\", err.msg)\n"
   ]
  },
  {
   "cell_type": "code",
   "execution_count": 9,
   "metadata": {},
   "outputs": [
    {
     "name": "stdout",
     "output_type": "stream",
     "text": [
      "25972 registro insertado.\n"
     ]
    }
   ],
   "source": [
    "insercion_datos_xml(xml_final)"
   ]
  }
 ],
 "metadata": {
  "kernelspec": {
   "display_name": "Python 3.8.10 64-bit (microsoft store)",
   "language": "python",
   "name": "python3"
  },
  "language_info": {
   "codemirror_mode": {
    "name": "ipython",
    "version": 3
   },
   "file_extension": ".py",
   "mimetype": "text/x-python",
   "name": "python",
   "nbconvert_exporter": "python",
   "pygments_lexer": "ipython3",
   "version": "3.8.10"
  },
  "orig_nbformat": 4,
  "vscode": {
   "interpreter": {
    "hash": "79dd3c927003417683b619f87ecd0018a9d7de8be3a2646bb47397e38116df1b"
   }
  }
 },
 "nbformat": 4,
 "nbformat_minor": 2
}
