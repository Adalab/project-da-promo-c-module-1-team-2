{
 "cells": [
  {
   "cell_type": "markdown",
   "metadata": {},
   "source": [
    "## Archivo de creación de tablas e insercción de datos con MySQL"
   ]
  },
  {
   "cell_type": "code",
   "execution_count": 1,
   "metadata": {},
   "outputs": [],
   "source": [
    "import mysql.connector"
   ]
  },
  {
   "cell_type": "code",
   "execution_count": 3,
   "metadata": {},
   "outputs": [
    {
     "name": "stdout",
     "output_type": "stream",
     "text": [
      "1050 (42S01): Table 'data_xml' already exists\n",
      "Error Code: 1050\n",
      "SQLSTATE 42S01\n",
      "Message Table 'data_xml' already exists\n"
     ]
    }
   ],
   "source": [
    "cnx = mysql.connector.connect(user='root', password = 'AlumnaAdalab' ,\n",
    "                            host='127.0.0.1', database ='project1')\n",
    "\n",
    "mycursor = cnx.cursor()\n",
    "\n",
    "try:\n",
    "    mycursor.execute(\"\"\"CREATE TABLE data_xml (\n",
    "                            index_xml int not null auto_increment,\n",
    "                            `time` varchar(255),\n",
    "                            age varchar (255),\n",
    "                            gender varchar (255),\n",
    "                            index_sql int,\n",
    "                            primary key (index_xml),\n",
    "                            constraint `fk_data_xml_data_sql` \n",
    "                            foreign key (index_sql)\n",
    "                            references `data_sql` (index_sql)\n",
    "                            on delete cascade on update cascade\n",
    "                            );\"\"\")\n",
    "    print(mycursor)\n",
    "except mysql.connector.Error as err:\n",
    "    print(err)\n",
    "    print(\"Error Code:\", err.errno)\n",
    "    print(\"SQLSTATE\", err.sqlstate)\n",
    "    print(\"Message\", err.msg)\n",
    "\n",
    "mycursor.close()\n",
    "cnx.close()"
   ]
  },
  {
   "cell_type": "code",
   "execution_count": 4,
   "metadata": {},
   "outputs": [
    {
     "name": "stdout",
     "output_type": "stream",
     "text": [
      "1050 (42S01): Table 'data_txt' already exists\n",
      "Error Code: 1050\n",
      "SQLSTATE 42S01\n",
      "Message Table 'data_txt' already exists\n"
     ]
    }
   ],
   "source": [
    "cnx = mysql.connector.connect(user='root', password = 'AlumnaAdalab' ,\n",
    "                            host='127.0.0.1', database ='project1')\n",
    "\n",
    "mycursor = cnx.cursor()\n",
    "\n",
    "try:\n",
    "    mycursor.execute(\"\"\"CREATE TABLE data_txt (\n",
    "                            index_txt int not null auto_increment,\n",
    "                            index_sql int,\n",
    "                            q3 varchar (255),\n",
    "                            q4 varchar (255),\n",
    "                            q5 varchar (255),\n",
    "                            q6 varchar (255),\n",
    "                            q7 varchar (255),\n",
    "                            q8 varchar (255),\n",
    "                            q9 varchar (255),\n",
    "                            q11 varchar (255),\n",
    "                            q12 varchar (255),\n",
    "                            q13 varchar (255),\n",
    "                            q14 varchar (255),\n",
    "                            q15 varchar (255),\n",
    "                            q16 varchar (255),\n",
    "                            q17 varchar (500),\n",
    "                            q20 varchar (255),\n",
    "                            q21 varchar (255),\n",
    "                            q22 varchar (255),\n",
    "                            q23 varchar (255),\n",
    "                            q24 varchar (500),\n",
    "                            q25 varchar (255),\n",
    "                            q26 varchar (255),\n",
    "                            q32 varchar (500),\n",
    "                            q33 varchar (255),\n",
    "                            q34 varchar (255),\n",
    "                            q35 varchar (255),\n",
    "                            q41 varchar (255),\n",
    "                            primary key (index_txt),\n",
    "                            constraint `fk_data_txt_data_sql` \n",
    "                            foreign key (index_sql)\n",
    "                            references `data_sql` (index_sql)\n",
    "                            on delete cascade on update cascade\n",
    "                            );\"\"\")\n",
    "    print(mycursor)\n",
    "except mysql.connector.Error as err:\n",
    "    print(err)\n",
    "    print(\"Error Code:\", err.errno)\n",
    "    print(\"SQLSTATE\", err.sqlstate)\n",
    "    print(\"Message\", err.msg)\n",
    "\n",
    "mycursor.close()\n",
    "cnx.close()"
   ]
  },
  {
   "cell_type": "code",
   "execution_count": null,
   "metadata": {},
   "outputs": [],
   "source": []
  }
 ],
 "metadata": {
  "kernelspec": {
   "display_name": "Python 3.8.10 64-bit (microsoft store)",
   "language": "python",
   "name": "python3"
  },
  "language_info": {
   "codemirror_mode": {
    "name": "ipython",
    "version": 3
   },
   "file_extension": ".py",
   "mimetype": "text/x-python",
   "name": "python",
   "nbconvert_exporter": "python",
   "pygments_lexer": "ipython3",
   "version": "3.8.10"
  },
  "orig_nbformat": 4,
  "vscode": {
   "interpreter": {
    "hash": "79dd3c927003417683b619f87ecd0018a9d7de8be3a2646bb47397e38116df1b"
   }
  }
 },
 "nbformat": 4,
 "nbformat_minor": 2
}
