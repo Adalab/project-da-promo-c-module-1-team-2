{
 "cells": [
  {
   "cell_type": "markdown",
   "metadata": {},
   "source": [
    "## Limpieza del archivo .txt\n",
    "Este código sirve para la lectura, limpieza y actualización de archivos txt.\n",
    "Para usarlo, es necesario que **el archivo esté en la carpeta actual**.\n",
    "\n",
    "Se deben seguir los siguientes pasos:\n",
    "\n",
    "- txt = Procesado_txt('nombre-de-tu-archivo.txt')\n",
    "\n",
    "- txt_limpio = txt.limpieza_txt()\n",
    "\n",
    "Como resultado, se obtiene el archivo limpio en forma de lista.\n",
    "\n",
    "En este mismo archivo dejamos las celdas necesarias con este código para su ejecución.\n",
    "\n",
    "Hemos preparado también una función de creación de tablas en MySQL y otra de inserción de datos.\n",
    "\n",
    "\n"
   ]
  },
  {
   "cell_type": "code",
   "execution_count": 1,
   "metadata": {},
   "outputs": [],
   "source": [
    "class Procesado_txt:\n",
    "    '''Usaremos esta clase para el procesado del archivo txt.\n",
    "    Contiene dos métodos, lectura_txt y limpieza_txt.\n",
    "    En el de limpieza también se incluye el de lectura.\n",
    "    Return: Una lista del archivo procesado y limpio.'''\n",
    "\n",
    "    def __init__ (self, ruta_archivo_txt):\n",
    "\n",
    "        self.ruta_archivo_txt = ruta_archivo_txt\n",
    "\n",
    "    def lectura_txt(self):\n",
    "\n",
    "        with open(self.ruta_archivo_txt,'r') as f:\n",
    "            file_source = f.readlines() \n",
    "            f.close()\n",
    "            return file_source\n",
    "\n",
    "    '''Creamos una función aplicando los cambios pedidos y además algunos otros que hemos observado:'''\n",
    "\n",
    "    def limpieza_txt(self):\n",
    "\n",
    "        file_source = self.lectura_txt()\n",
    "        txt_limpio = []\n",
    "\n",
    "        for file in file_source:\n",
    "            elemento = file.strip().replace('null','NULL').replace('<','under').replace('   ', ' ').replace('  ', ' ').replace(' ,', ',').replace(' ;', ';')\n",
    "            txt_limpio.append(elemento)\n",
    "        return txt_limpio\n",
    "\n",
    "    '''Convertimos el archivo final a una lista de tuplas'''\n",
    "\n",
    "    def conversion_txt(self):\n",
    "\n",
    "        txt_limpio = self.limpieza_txt()\n",
    "        txt_final = []\n",
    "\n",
    "        for i in txt_limpio[1:]:\n",
    "            lista = i.split(';')\n",
    "            tupla = tuple(lista)\n",
    "            txt_final.append(tupla)\n",
    "\n",
    "        return txt_final"
   ]
  },
  {
   "cell_type": "code",
   "execution_count": 2,
   "metadata": {},
   "outputs": [],
   "source": [
    "'''Para llamar al archivo lo ponemos entre paréntesis. La ruta del archivo que queremos procesar\n",
    "debe estar en la misma carpeta que el Jupyter con el que trabajamos.'''\n",
    "\n",
    "txt = Procesado_txt('data_txt.txt')"
   ]
  },
  {
   "cell_type": "code",
   "execution_count": 3,
   "metadata": {},
   "outputs": [],
   "source": [
    "'''Creamos la variable con el archivo limpio para insertar en la importación'''\n",
    "\n",
    "txt_limpio = txt.conversion_txt()"
   ]
  },
  {
   "cell_type": "code",
   "execution_count": 4,
   "metadata": {},
   "outputs": [
    {
     "data": {
      "text/plain": [
       "[('1',\n",
       "  'Indonesia',\n",
       "  'Masterâ€™s degree',\n",
       "  'Program/Project Manager',\n",
       "  '20+ years',\n",
       "  'NULL, SQL, C, C++, Java',\n",
       "  'Python',\n",
       "  'NULL, Notepad++, Jupyter Notebook',\n",
       "  'A cloud computing platform (AWS, Azure, GCP, hosted notebooks, etc)',\n",
       "  'NULL, None',\n",
       "  'Never',\n",
       "  ' Matplotlib',\n",
       "  'Under 1 year',\n",
       "  ' Scikit-learn',\n",
       "  'Linear or Logistic Regression, Decision Trees or Random Forests',\n",
       "  'Manufacturing/Fabrication',\n",
       "  '1000-9,999 employees',\n",
       "  '1-2',\n",
       "  'We are exploring ML methods (and may one day put a model into production)',\n",
       "  'NULL, Build and/or run the data infrastructure that my business uses for storing, analyzing, and operationalizing data',\n",
       "  '60,000-69,999',\n",
       "  '$0 ($USD)',\n",
       "  '',\n",
       "  '',\n",
       "  '',\n",
       "  '',\n",
       "  'Advanced statistical software (SPSS, SAS, etc.)'),\n",
       " ('2',\n",
       "  'Pakistan',\n",
       "  'Masterâ€™s degree',\n",
       "  'Software Engineer',\n",
       "  '1-3 years',\n",
       "  'Python, C++, Java',\n",
       "  'Python',\n",
       "  'NULL, PyCharm, Jupyter Notebook, Other',\n",
       "  'A laptop',\n",
       "  'NULL, Other',\n",
       "  'Never',\n",
       "  ' Matplotlib',\n",
       "  'I do not use machine learning methods',\n",
       "  '',\n",
       "  '',\n",
       "  'Academics/Education',\n",
       "  '1000-9,999 employees',\n",
       "  '0',\n",
       "  'I do not know',\n",
       "  'NULL, None of these activities are an important part of my role at work',\n",
       "  '$0-999',\n",
       "  '$0 ($USD)',\n",
       "  'MySQL, MongoDB',\n",
       "  'MySQL',\n",
       "  'NULL, None',\n",
       "  '',\n",
       "  'Basic statistical software (Microsoft Excel, Google Sheets, etc.)')]"
      ]
     },
     "execution_count": 4,
     "metadata": {},
     "output_type": "execute_result"
    }
   ],
   "source": [
    "'''Para comprobar que el archivo se ha limpiado correctamente, imprimimos el primer valor'''\n",
    "\n",
    "txt_limpio[0:2]"
   ]
  },
  {
   "cell_type": "code",
   "execution_count": null,
   "metadata": {},
   "outputs": [],
   "source": [
    "'''Mediante este código creamos la tabla data_txt en MySQL:'''\n",
    "\n",
    "import mysql.connector\n",
    "\n",
    "cnx = mysql.connector.connect(user='root', password = 'AlumnaAdalab' ,\n",
    "                            host='127.0.0.1', database ='project1')\n",
    "\n",
    "mycursor = cnx.cursor()\n",
    "try:\n",
    "    mycursor.execute(\"\"\"CREATE TABLE data_txt (\n",
    "                            index_txt int not null auto_increment,\n",
    "                            index_sql int,\n",
    "                            q3 varchar (255),\n",
    "                            q4 varchar (255),\n",
    "                            q5 varchar (255),\n",
    "                            q6 varchar (255),\n",
    "                            q7 varchar (255),\n",
    "                            q8 varchar (255),\n",
    "                            q9 varchar (255),\n",
    "                            q11 varchar (255),\n",
    "                            q12 varchar (255),\n",
    "                            q13 varchar (255),\n",
    "                            q14 varchar (255),\n",
    "                            q15 varchar (255),\n",
    "                            q16 varchar (255),\n",
    "                            q17 varchar (500),\n",
    "                            q20 varchar (255),\n",
    "                            q21 varchar (255),\n",
    "                            q22 varchar (255),\n",
    "                            q23 varchar (255),\n",
    "                            q24 varchar (500),\n",
    "                            q25 varchar (255),\n",
    "                            q26 varchar (255),\n",
    "                            q32 varchar (500),\n",
    "                            q33 varchar (255),\n",
    "                            q34 varchar (255),\n",
    "                            q35 varchar (255),\n",
    "                            q41 varchar (255),\n",
    "                            primary key (index_txt),\n",
    "                            constraint `fk_data_txt_data_sql` \n",
    "                            foreign key (index_sql)\n",
    "                            references `data_sql` (index_sql)\n",
    "                            on delete cascade on update cascade\n",
    "                            );\"\"\")\n",
    "    print(mycursor)\n",
    "except mysql.connector.Error as err:\n",
    "    print(err)\n",
    "    print(\"Error Code:\", err.errno)\n",
    "    print(\"SQLSTATE\", err.sqlstate)\n",
    "    print(\"Message\", err.msg)\n",
    "\n",
    "mycursor.close()\n",
    "cnx.close()"
   ]
  },
  {
   "cell_type": "code",
   "execution_count": 11,
   "metadata": {},
   "outputs": [],
   "source": [
    "'''Esta es la función para la insercción de datos a la tabla datos_txt:'''\n",
    "\n",
    "def insercion_datos_txt(datos_txt):\n",
    "    \n",
    "    cnx = mysql.connector.connect(user='root', password='AlumnaAdalab',\n",
    "                                host='127.0.0.1', database='project1')\n",
    "\n",
    "\n",
    "    mycursor = cnx.cursor()\n",
    "    \n",
    "    sql = \"\"\"INSERT INTO data_txt (index_txt,q3,q4,q5,q6,q7,q8,q9,q11,q12,q13,q14,q15,q16,q17, q20, q21, q22, \n",
    "                q23, q24, q25, q26, q32, q33, q34,q35, q41) VALUES (%s,%s,%s,%s,%s,%s,%s,%s,%s,%s,%s,%s,%s,%s,%s,%s,%s,%s,%s,%s,%s,%s,%s,%s,%s,%s,%s)\"\"\"\n",
    "    val = datos_txt\n",
    "    \n",
    "    try: \n",
    "        mycursor.executemany(sql, val)\n",
    "        cnx.commit()\n",
    "        print(mycursor.rowcount, \"registro insertado.\")\n",
    "\n",
    "    except mysql.connector.Error as err:\n",
    "        print(err)\n",
    "        print(\"Error Code:\", err.errno)\n",
    "        print(\"SQLSTATE\", err.sqlstate)\n",
    "        print(\"Message\", err.msg)\n",
    "\n"
   ]
  },
  {
   "cell_type": "code",
   "execution_count": 14,
   "metadata": {},
   "outputs": [
    {
     "name": "stdout",
     "output_type": "stream",
     "text": [
      "25972 registro insertado.\n"
     ]
    }
   ],
   "source": [
    "'''Llamamos a la variable que contiene el archivo limpio y lo insertamos en la base de datos\n",
    "recién creada con la función de inserción de datos'''\n",
    "\n",
    "insercion_datos_txt(txt_limpio)"
   ]
  }
 ],
 "metadata": {
  "kernelspec": {
   "display_name": "Python 3.9.7 ('base')",
   "language": "python",
   "name": "python3"
  },
  "language_info": {
   "codemirror_mode": {
    "name": "ipython",
    "version": 3
   },
   "file_extension": ".py",
   "mimetype": "text/x-python",
   "name": "python",
   "nbconvert_exporter": "python",
   "pygments_lexer": "ipython3",
   "version": "3.9.7"
  },
  "orig_nbformat": 4,
  "vscode": {
   "interpreter": {
    "hash": "0620710c65b0f5ccc651a2aa8870ae0eb4c70492424a8d7866846658189426a3"
   }
  }
 },
 "nbformat": 4,
 "nbformat_minor": 2
}
