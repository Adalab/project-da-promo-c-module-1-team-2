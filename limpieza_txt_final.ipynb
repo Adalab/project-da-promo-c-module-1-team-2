{
 "cells": [
  {
   "cell_type": "markdown",
   "metadata": {},
   "source": [
    "## Limpieza del archivo .txt\n",
    "### En este archivo..."
   ]
  },
  {
   "cell_type": "code",
   "execution_count": null,
   "metadata": {},
   "outputs": [],
   "source": [
    "class Procesado_txt:\n",
    "    '''Usaremos esta clase para el procesado del archivo txt.\n",
    "\n",
    "    \n",
    "    Contiene dos métodos, lectura_txt y limpieza_txt.\n",
    "    Return: Una lista del archivo procesado y limpio.'''\n",
    "    def __init__ (self, ruta_archivo_txt):\n",
    "        self.ruta_archivo_txt = ruta_archivo_txt\n",
    "    def lectura_txt(self):\n",
    "        with open(self.ruta_archivo_txt,'r') as file:\n",
    "            file_source = file.readlines() \n",
    "\n",
    "            return file_source\n",
    "\n",
    "    def limpieza_txt(self):\n",
    "        file_source = self.lectura_txt()\n",
    "        txt_limpio = []\n",
    "        for file in file_source:\n",
    "            elemento = file.strip().replace('null','NULL').replace('<','under').replace('   ', ' ').replace('  ', ' ').replace(' ,', ',').replace(' ;', ';')\n",
    "            txt_limpio.append(elemento)\n",
    "\n",
    "        file.close()\n",
    "        return txt_limpio"
   ]
  },
  {
   "cell_type": "code",
   "execution_count": null,
   "metadata": {},
   "outputs": [],
   "source": [
    "'''Para llamar al archivo lo llamamos poniéndolo entre paréntesis. La ruta del archivo que queremos procesar\n",
    "debe estar en la misma carpeta que el jupyter con el que trabajamos.'''\n",
    "\n",
    "txt = Procesado_txt('data_txt.txt')"
   ]
  },
  {
   "cell_type": "code",
   "execution_count": null,
   "metadata": {},
   "outputs": [],
   "source": [
    "txt_limpio = txt.limpieza_txt()"
   ]
  }
 ],
 "metadata": {
  "kernelspec": {
   "display_name": "Python 3.10.6 64-bit",
   "language": "python",
   "name": "python3"
  },
  "language_info": {
   "name": "python",
   "version": "3.10.6"
  },
  "orig_nbformat": 4,
  "vscode": {
   "interpreter": {
    "hash": "916dbcbb3f70747c44a77c7bcd40155683ae19c65e1c03b4aa3499c5328201f1"
   }
  }
 },
 "nbformat": 4,
 "nbformat_minor": 2
}
