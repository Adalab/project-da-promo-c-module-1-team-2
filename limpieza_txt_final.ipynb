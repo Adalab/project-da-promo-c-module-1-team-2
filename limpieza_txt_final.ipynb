{
 "cells": [
  {
   "cell_type": "markdown",
   "metadata": {},
   "source": [
    "## Limpieza del archivo .txt\n",
    "Este código sirve para la lectura, limpieza y actualización de archivos txt.\n",
    "Para usarlo, es necesario que **el archivo esté en la carpeta actual**.\n",
    "\n",
    "Se deben seguir los siguientes pasos:\n",
    "\n",
    "- txt = Procesado_txt('nombre-de-tu-archivo.txt')\n",
    "\n",
    "- txt_limpio = txt.limpieza_txt()\n",
    "\n",
    "Como resultado, se obtiene el archivo limpio en forma de lista.\n",
    "\n",
    "En este mismo archivo dejamos las celdas necesarias con este código para su ejecución.\n",
    "\n",
    "\n",
    "\n",
    "\n"
   ]
  },
  {
   "cell_type": "code",
   "execution_count": 1,
   "metadata": {},
   "outputs": [],
   "source": [
    "class Procesado_txt:\n",
    "    '''Usaremos esta clase para el procesado del archivo txt.\n",
    "    Contiene dos métodos, lectura_txt y limpieza_txt.\n",
    "    En el de limpieza también se incluye el de lectura.\n",
    "    Return: Una lista del archivo procesado y limpio.'''\n",
    "\n",
    "    def __init__ (self, ruta_archivo_txt):\n",
    "        self.ruta_archivo_txt = ruta_archivo_txt\n",
    "    def lectura_txt(self):\n",
    "        with open(self.ruta_archivo_txt,'r') as file:\n",
    "            file_source = file.readlines() \n",
    "\n",
    "            return file_source\n",
    "\n",
    "    def limpieza_txt(self):\n",
    "        file_source = self.lectura_txt()\n",
    "        txt_limpio = []\n",
    "        for file in file_source:\n",
    "            elemento = file.strip().replace('null','NULL').replace('<','under').replace('   ', ' ').replace('  ', ' ').replace(' ,', ',').replace(' ;', ';')\n",
    "            txt_limpio.append(elemento)\n",
    "\n",
    "        file.close()\n",
    "        return txt_limpio"
   ]
  },
  {
   "cell_type": "code",
   "execution_count": null,
   "metadata": {},
   "outputs": [],
   "source": [
    "'''Para llamar al archivo lo llamamos poniéndolo entre paréntesis. La ruta del archivo que queremos procesar\n",
    "debe estar en la misma carpeta que el jupyter con el que trabajamos.'''\n",
    "\n",
    "txt = Procesado_txt('data_txt.txt')"
   ]
  },
  {
   "cell_type": "code",
   "execution_count": null,
   "metadata": {},
   "outputs": [],
   "source": [
    "txt_limpio = txt.limpieza_txt()"
   ]
  }
 ],
 "metadata": {
  "kernelspec": {
   "display_name": "Python 3.9.7 ('base')",
   "language": "python",
   "name": "python3"
  },
  "language_info": {
   "name": "python",
   "version": "3.9.7"
  },
  "orig_nbformat": 4,
  "vscode": {
   "interpreter": {
    "hash": "0620710c65b0f5ccc651a2aa8870ae0eb4c70492424a8d7866846658189426a3"
   }
  }
 },
 "nbformat": 4,
 "nbformat_minor": 2
}
