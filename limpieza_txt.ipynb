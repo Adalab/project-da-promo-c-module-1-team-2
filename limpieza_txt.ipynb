{
 "cells": [
  {
   "cell_type": "markdown",
   "metadata": {},
   "source": [
    "\n",
    "## Lectura del fichero TXT\n",
    "\n",
    "Nos devuelve una lista que contiene todos los elementos del archivo txt, cada elemento de la lista se toma como un único string. Cada elemento de la lista termina con \\n\n",
    "\n",
    "Ejemplo:\n",
    "\n",
    "['index_sql;Q3;Q4;Q5;Q6;Q7;Q8;Q9;Q11;Q12;Q13;Q14;Q15;Q16;Q17;Q20;Q21;Q22;Q23;Q24;Q25;Q26;Q32;Q33;Q34;Q35;Q41\\n',\n",
    " '1;Indonesia;Master’s degree;Program/Project Manager;20+ years;null, SQL, C, C++, Java;Python;null,   Notepad++  ,  Jupyter Notebook;A cloud computing platform (AWS, Azure, GCP, hosted notebooks, etc);null, None;Never; Matplotlib ;Under 1 year;  Scikit-learn ;Linear or Logistic Regression, Decision Trees or Random Forests;Manufacturing/Fabrication;1000-9,999 employees;1-2;We are exploring ML methods (and may one day put a model into production);null, Build and/or run the data infrastructure that my business uses for storing, analyzing, and operationalizing data;60,000-69,999;$0 ($USD);;;;;Advanced statistical software (SPSS, SAS, etc.)\\n',\n",
    " '2;Pakistan;Master’s degree;Software Engineer;1-3 years;Python, C++, Java;Python;null,  PyCharm ,  Jupyter Notebook, Other;A laptop;null, Other;Never; Matplotlib ;I do not use machine learning methods;;;Academics/Education;1000-9,999 employees;0;I do not know;null, None of these activities are an important part of my role at work;$0-999;$0 ($USD);MySQL , MongoDB ;MySQL ;null, None;;Basic statistical software (Microsoft Excel, Google Sheets, etc.)\\n',\n",
    " '3;Mexico;Doctoral degree;Research Scientist;20+ years;Python;Python;null,   Spyder  ,  Jupyter Notebook;A cloud computing platform (AWS, Azure, GCP, hosted notebooks, etc); NVIDIA GPUs ;More than 25 times; Matplotlib ;5-10 years;  Scikit-learn ,   TensorFlow ,  Keras ;null, Dense Neural Networks (MLPs, etc), Convolutional Neural Networks, Recurrent Neural Networks;Academics/Education;1000-9,999 employees;0;I do not know;null, Do research that advances the state of the art of machine learning;30,000-39,999;$0 ($USD);;;;;Local development environments (RStudio, JupyterLab, etc.)\\n',\n",
    "\n",
    "\n",
    "> Recomendación: Aprender a tratar los datos de algunos de los elementos de la lista, antes de intentar aplicarlo a todos los datos del fichero txt.\n",
    " - Primer elemento de la lista:\n",
    "    lista[0] = 'index_sql;Q3;Q4;Q5;Q6;Q7;Q8;Q9;Q11;Q12;Q13;Q14;Q15;Q16;Q17;Q20;Q21;Q22;Q23;Q24;Q25;Q26;Q32;Q33;Q34;Q35;Q41\\n'"
   ]
  },
  {
   "cell_type": "code",
   "execution_count": 1,
   "metadata": {},
   "outputs": [],
   "source": [
    "\n",
    "with open('data_txt.txt','r') as file:\n",
    "    file_source = file.readlines() \n",
    "    # Es una lista que cada línea del fichero txt como un string de todos los datos.\n",
    "    \n"
   ]
  },
  {
   "cell_type": "code",
   "execution_count": 48,
   "metadata": {},
   "outputs": [
    {
     "data": {
      "text/plain": [
       "'Vemos el elmento file_source para analizar el contenido\\nfile_source'"
      ]
     },
     "execution_count": 48,
     "metadata": {},
     "output_type": "execute_result"
    }
   ],
   "source": [
    "'''Vemos el elmento file_source para analizar el contenido\n",
    "file_source'''"
   ]
  },
  {
   "cell_type": "code",
   "execution_count": 49,
   "metadata": {},
   "outputs": [
    {
     "data": {
      "text/plain": [
       "'1;Indonesia;Master’s degree;Program/Project Manager;20+ years;null, SQL, C, C++, Java;Python;null,   Notepad++  ,  Jupyter Notebook;A cloud computing platform (AWS, Azure, GCP, hosted notebooks, etc);null, None;Never; Matplotlib ;Under 1 year;  Scikit-learn ;Linear or Logistic Regression, Decision Trees or Random Forests;Manufacturing/Fabrication;1000-9,999 employees;1-2;We are exploring ML methods (and may one day put a model into production);null, Build and/or run the data infrastructure that my business uses for storing, analyzing, and operationalizing data;60,000-69,999;$0 ($USD);;;;;Advanced statistical software (SPSS, SAS, etc.)\\n'"
      ]
     },
     "execution_count": 49,
     "metadata": {},
     "output_type": "execute_result"
    }
   ],
   "source": [
    "# Para quitar los espacios iniciales y finales y los \\n probamos a hacer un .strip() del elemento 0\n",
    "file_source[1]"
   ]
  },
  {
   "cell_type": "code",
   "execution_count": 50,
   "metadata": {},
   "outputs": [],
   "source": [
    "#Definimos la variable lista vacía y hacemos un for loop para cada elemento de la file_source elimina espacios con el .strip() y se guarda en la variable elemento \n",
    "# Cada elemento se va appendeando a la lista vacía de nuevo.\n",
    "lista = []\n",
    "\n",
    "for file in file_source:\n",
    "    elemento = file.strip()\n",
    "    lista.append(elemento)\n",
    "    \n",
    "#lista"
   ]
  },
  {
   "cell_type": "code",
   "execution_count": 51,
   "metadata": {},
   "outputs": [],
   "source": [
    "#Creamos otra lista listanull vacía y hacemos un for loop para cada elemento de la lista de la celda anterior(con espacios ya eliminados) para cambiar con .replace(,) null por 'NULL' y se guarda en la variable elemento \n",
    "# Cada elemento se va appendeando a la listanull.\n",
    "listanull = []\n",
    "\n",
    "for file in lista:\n",
    "    elemento = file.replace('null','NULL')\n",
    "    listanull.append(elemento)    \n",
    "    \n",
    "#listanull                                                                 "
   ]
  },
  {
   "cell_type": "code",
   "execution_count": 52,
   "metadata": {},
   "outputs": [],
   "source": [
    "#Creamos otra lista listanull vacía y hacemos un for loop para cada elemento de la lista de la celda anterior para cambiar con .replace < por 'under' y se guarda en la variable elemento \n",
    "#Cada elemento se va appendeando a la lista lista_final.\n",
    "lista_final = []\n",
    "\n",
    "for file in listanull:\n",
    "    elemento = file.replace('<','under')\n",
    "    lista_final.append(elemento)"
   ]
  },
  {
   "cell_type": "code",
   "execution_count": 2,
   "metadata": {},
   "outputs": [],
   "source": [
    "#Definimos la función de lectura del archivo\n",
    "def lectura_txt(ruta_archivo_txt):\n",
    "    with open(ruta_archivo_txt,'r') as file:\n",
    "        file_source = file.readlines() \n",
    "    return file_source"
   ]
  },
  {
   "cell_type": "code",
   "execution_count": 5,
   "metadata": {},
   "outputs": [],
   "source": [
    "# Definimos la función limpieza_txt que une todos los métodos que hemos realizado anteriormente en un mismo for loop y añadimos unos replaces para quitar los espacios en blanco dentro de cada string.\n",
    "# Cada elemento se almacena en la lista txt_limpio\n",
    "\n",
    "def limpieza_txt(file_source):\n",
    "    txt_limpio = []\n",
    "    for file in file_source:\n",
    "        elemento = file.strip().replace('null','NULL').replace('<','under').replace('   ', ' ').replace('  ', ' ').replace(' ,', ',').replace(' ;', ';')\n",
    "        txt_limpio.append(elemento)\n",
    "    return txt_limpio"
   ]
  },
  {
   "cell_type": "code",
   "execution_count": null,
   "metadata": {},
   "outputs": [],
   "source": []
  },
  {
   "cell_type": "code",
   "execution_count": 8,
   "metadata": {},
   "outputs": [],
   "source": [
    "txt_limpio = limpieza_txt(file_source)"
   ]
  },
  {
   "cell_type": "code",
   "execution_count": 9,
   "metadata": {},
   "outputs": [
    {
     "data": {
      "text/plain": [
       "['1;Indonesia;Master’s degree;Program/Project Manager;20+ years;NULL, SQL, C, C++, Java;Python;NULL, Notepad++, Jupyter Notebook;A cloud computing platform (AWS, Azure, GCP, hosted notebooks, etc);NULL, None;Never; Matplotlib;Under 1 year; Scikit-learn;Linear or Logistic Regression, Decision Trees or Random Forests;Manufacturing/Fabrication;1000-9,999 employees;1-2;We are exploring ML methods (and may one day put a model into production);NULL, Build and/or run the data infrastructure that my business uses for storing, analyzing, and operationalizing data;60,000-69,999;$0 ($USD);;;;;Advanced statistical software (SPSS, SAS, etc.)',\n",
       " '2;Pakistan;Master’s degree;Software Engineer;1-3 years;Python, C++, Java;Python;NULL, PyCharm, Jupyter Notebook, Other;A laptop;NULL, Other;Never; Matplotlib;I do not use machine learning methods;;;Academics/Education;1000-9,999 employees;0;I do not know;NULL, None of these activities are an important part of my role at work;$0-999;$0 ($USD);MySQL, MongoDB;MySQL;NULL, None;;Basic statistical software (Microsoft Excel, Google Sheets, etc.)',\n",
       " '3;Mexico;Doctoral degree;Research Scientist;20+ years;Python;Python;NULL, Spyder, Jupyter Notebook;A cloud computing platform (AWS, Azure, GCP, hosted notebooks, etc); NVIDIA GPUs;More than 25 times; Matplotlib;5-10 years; Scikit-learn, TensorFlow, Keras;NULL, Dense Neural Networks (MLPs, etc), Convolutional Neural Networks, Recurrent Neural Networks;Academics/Education;1000-9,999 employees;0;I do not know;NULL, Do research that advances the state of the art of machine learning;30,000-39,999;$0 ($USD);;;;;Local development environments (RStudio, JupyterLab, etc.)',\n",
       " '4;India;Doctoral degree;Other;under 1 years;Python, C, MATLAB;Python;NULL, Spyder, MATLAB, Jupyter Notebook;A cloud computing platform (AWS, Azure, GCP, hosted notebooks, etc);NULL, None;Never; Matplotlib, Seaborn, Ggplot / ggplot2;10-20 years; Scikit-learn, PyTorch, LightGBM;Linear or Logistic Regression, Decision Trees or Random Forests, Gradient Boosting Machines (xgboost, lightgbm, etc), Bayesian Approaches, Evolutionary Approaches;Academics/Education;50-249 employees;5-9;We use ML methods for generating insights (but do not put working models into production);Analyze and understand data to influence product or business decisions, Build prototypes to explore applying machine learning to new areas;30,000-39,999;$1000-$9,999;NULL, None;;NULL, Microsoft Power BI;;Local development environments (RStudio, JupyterLab, etc.)',\n",
       " '5;India;I prefer not to answer;Currently not employed;under 1 years;Python;Python;Jupyter (JupyterLab, Jupyter Notebooks, etc), PyCharm, Spyder, Jupyter Notebook;A laptop;NULL, Google Cloud TPUs;2-5 times; Matplotlib, Seaborn, Ggplot / ggplot2;Under 1 year; Scikit-learn, TensorFlow, Keras, PyTorch, Fast.ai;Linear or Logistic Regression, Decision Trees or Random Forests;;;;;;;;;;;;Local development environments (RStudio, JupyterLab, etc.)',\n",
       " '6;India;Some college/university study without earning a bachelor’s degree;Student;1-3 years;NULL, C++, Java, Javascript;Python;NULL, Visual Studio, Visual Studio Code (VSCode), Jupyter Notebook;A laptop;NULL, None;Never;NULL, Geoplotlib;Under 1 year;NULL, Fast.ai;;;;;;;;;;;;;',\n",
       " '7;India;Bachelor’s degree;Data Scientist;5-10 years;Python;Python;NULL, Jupyter Notebook;A personal computer / desktop;NULL, Google Cloud TPUs;2-5 times; Matplotlib, Plotly / Plotly Express;2-3 years; Scikit-learn, TensorFlow, Keras;NULL, Decision Trees or Random Forests, Dense Neural Networks (MLPs, etc), Convolutional Neural Networks, Generative Adversarial Networks;Computers/Technology;10,000 or more employees;3-4;We have well established ML methods (i.e., models in production for more than 2 years);NULL, Build and/or run the data infrastructure that my business uses for storing, analyzing, and operationalizing data, Build prototypes to explore applying machine learning to new areas;15,000-19,999;$1-$99;MySQL;;NULL, None;;Basic statistical software (Microsoft Excel, Google Sheets, etc.)',\n",
       " '8;Russia;Bachelor’s degree;Currently not employed;3-5 years;Python, SQL;Python;NULL, Other;A cloud computing platform (AWS, Azure, GCP, hosted notebooks, etc);NULL, None;Never; Matplotlib;Under 1 year; Scikit-learn, Xgboost;NULL, Decision Trees or Random Forests, Gradient Boosting Machines (xgboost, lightgbm, etc);;;;;;;;;;;;Basic statistical software (Microsoft Excel, Google Sheets, etc.)',\n",
       " '9;Turkey;I prefer not to answer;Other;1-3 years;Python, SQL;SQL;NULL, Spyder, Jupyter Notebook;A laptop;NULL, None;Never; Matplotlib, Seaborn;Under 1 year; Scikit-learn, TensorFlow;Linear or Logistic Regression;Manufacturing/Fabrication;50-249 employees;1-2;I do not know;Analyze and understand data to influence product or business decisions;$0-999;$0 ($USD);;;;;Business intelligence software (Salesforce, Tableau, Spotfire, etc.)',\n",
       " '10;Australia;Doctoral degree;Other;1-3 years;Python, R, SQL;R;NULL, RStudio, Jupyter Notebook;A personal computer / desktop;NULL, None;Never; Matplotlib, Seaborn, Ggplot / ggplot2;I do not use machine learning methods;;;Other;0-49 employees;0;No (we do not use ML methods);NULL, None of these activities are an important part of my role at work;70,000-79,999;$1-$99;MySQL;;NULL, Microsoft Power BI, Tableau, Alteryx;Tableau;Local development environments (RStudio, JupyterLab, etc.)',\n",
       " '11;India;Master’s degree;Student;under 1 years;Python, R, C++;R;NULL, RStudio, Jupyter Notebook;A laptop;NULL, None;Never; Matplotlib, Seaborn, Ggplot / ggplot2;Under 1 year; Scikit-learn;Linear or Logistic Regression;;;;;;;;;;;;Advanced statistical software (SPSS, SAS, etc.)',\n",
       " '12;India;Master’s degree;Student;under 1 years;Python, MATLAB;Python;NULL, RStudio, MATLAB, Jupyter Notebook;A laptop;;;;;;;;;;;;;;;;;;',\n",
       " '13;Nigeria;Master’s degree;Program/Project Manager;5-10 years;Python, SQL;Python;NULL, Spyder, Jupyter Notebook;A laptop;NULL, None;Never; Matplotlib, Seaborn;1-2 years; Scikit-learn, Xgboost;Linear or Logistic Regression, Decision Trees or Random Forests;Shipping/Transportation;1000-9,999 employees;10-14;We are exploring ML methods (and may one day put a model into production);Analyze and understand data to influence product or business decisions, Build and/or run the data infrastructure that my business uses for storing, analyzing, and operationalizing data;2,000-2,999;$100-$999;NULL, Oracle Database;;NULL, None;;Local development environments (RStudio, JupyterLab, etc.)',\n",
       " '14;Nigeria;Bachelor’s degree;Other;under 1 years;Python;Python;NULL, Visual Studio Code (VSCode);A laptop; NVIDIA GPUs;Once;NULL, Plotly / Plotly Express;Under 1 year;NULL, TensorFlow;Linear or Logistic Regression;Academics/Education;0-49 employees;1-2;No (we do not use ML methods);Analyze and understand data to influence product or business decisions;$0-999;$0 ($USD);;;;;Basic statistical software (Microsoft Excel, Google Sheets, etc.)',\n",
       " '15;Greece;Doctoral degree;Research Scientist;10-20 years;Python, C, C++, MATLAB;Python;NULL, Spyder;A laptop; NVIDIA GPUs;Never; Matplotlib;4-5 years; Scikit-learn, Other;Linear or Logistic Regression, Other;Academics/Education;50-249 employees;5-9;We use ML methods for generating insights (but do not put working models into production);NULL, Build and/or run the data infrastructure that my business uses for storing, analyzing, and operationalizing data, Build prototypes to explore applying machine learning to new areas, Experimentation and iteration to improve existing ML models;10,000-14,999;$0 ($USD);;;;;Local development environments (RStudio, JupyterLab, etc.)',\n",
       " '16;Belgium;Bachelor’s degree;Data Analyst;20+ years;Python, SQL;Python;Jupyter (JupyterLab, Jupyter Notebooks, etc), Jupyter Notebook;A laptop;NULL, None;Never; Matplotlib, Seaborn, Plotly / Plotly Express;1-2 years; Scikit-learn;Linear or Logistic Regression;Energy/Mining;1000-9,999 employees;5-9;We are exploring ML methods (and may one day put a model into production);Analyze and understand data to influence product or business decisions;2,000-2,999;$0 ($USD);;;;;Local development environments (RStudio, JupyterLab, etc.)',\n",
       " '17;Pakistan;Bachelor’s degree;Data Scientist;1-3 years;Python, SQL;Python;Jupyter (JupyterLab, Jupyter Notebooks, etc), Visual Studio Code (VSCode), PyCharm, Jupyter Notebook;A laptop; NVIDIA GPUs;Never; Matplotlib, Seaborn, Ggplot / ggplot2;Under 1 year; Scikit-learn, TensorFlow, Keras, PyTorch;Linear or Logistic Regression, Decision Trees or Random Forests, Convolutional Neural Networks;Academics/Education;0-49 employees;3-4;We use ML methods for generating insights (but do not put working models into production);Analyze and understand data to influence product or business decisions, Build and/or run a machine learning service that operationally improves my product or workflows;$0-999;$0 ($USD);;;;;Local development environments (RStudio, JupyterLab, etc.)',\n",
       " '18;Japan;Master’s degree;Software Engineer;3-5 years;Python, SQL, C, Java, Javascript;Python;Jupyter (JupyterLab, Jupyter Notebooks, etc), Visual Studio Code (VSCode), PyCharm;A laptop;NULL, None;Never; Matplotlib;2-3 years;NULL, PyTorch;Linear or Logistic Regression, Generative Adversarial Networks, Recurrent Neural Networks;;;;;;;;;;;;',\n",
       " '19;Egypt;Bachelor’s degree;Other;under 1 years;NULL, None;R;NULL, PyCharm, Sublime Text;A laptop;NULL, None;Never;NULL, None;I do not use machine learning methods;;;Shipping/Transportation;10,000 or more employees;5-9;I do not know;NULL, None of these activities are an important part of my role at work;5,000-7,499;$0 ($USD);NULL, None;;NULL, None;;Basic statistical software (Microsoft Excel, Google Sheets, etc.)']"
      ]
     },
     "execution_count": 9,
     "metadata": {},
     "output_type": "execute_result"
    }
   ],
   "source": [
    "txt_limpio [1:20]"
   ]
  }
 ],
 "metadata": {
  "kernelspec": {
   "display_name": "Python 3.10.6 ('adalabenv')",
   "language": "python",
   "name": "python3"
  },
  "language_info": {
   "codemirror_mode": {
    "name": "ipython",
    "version": 3
   },
   "file_extension": ".py",
   "mimetype": "text/x-python",
   "name": "python",
   "nbconvert_exporter": "python",
   "pygments_lexer": "ipython3",
   "version": "3.10.6"
  },
  "orig_nbformat": 4,
  "vscode": {
   "interpreter": {
    "hash": "d055aa09d3921340beac831acf989e15e939d47d71ac1f5055759ef84a458908"
   }
  }
 },
 "nbformat": 4,
 "nbformat_minor": 2
}
