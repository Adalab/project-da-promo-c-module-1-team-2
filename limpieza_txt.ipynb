{
 "cells": [
  {
   "cell_type": "markdown",
   "metadata": {},
   "source": [
    "## Lectura del fichero TXT\n",
    "\n",
    "Nos devuelve una lista que contiene todos los elementos del archivo txt, cada elemento de la lista se toma como un único string. Cada elemento de la lista termina con \\n\n",
    "\n",
    "Ejemplo:\n",
    "\n",
    "['index_sql;Q3;Q4;Q5;Q6;Q7;Q8;Q9;Q11;Q12;Q13;Q14;Q15;Q16;Q17;Q20;Q21;Q22;Q23;Q24;Q25;Q26;Q32;Q33;Q34;Q35;Q41\\n',\n",
    " '1;Indonesia;Master’s degree;Program/Project Manager;20+ years;null, SQL, C, C++, Java;Python;null,   Notepad++  ,  Jupyter Notebook;A cloud computing platform (AWS, Azure, GCP, hosted notebooks, etc);null, None;Never; Matplotlib ;Under 1 year;  Scikit-learn ;Linear or Logistic Regression, Decision Trees or Random Forests;Manufacturing/Fabrication;1000-9,999 employees;1-2;We are exploring ML methods (and may one day put a model into production);null, Build and/or run the data infrastructure that my business uses for storing, analyzing, and operationalizing data;60,000-69,999;$0 ($USD);;;;;Advanced statistical software (SPSS, SAS, etc.)\\n',\n",
    " '2;Pakistan;Master’s degree;Software Engineer;1-3 years;Python, C++, Java;Python;null,  PyCharm ,  Jupyter Notebook, Other;A laptop;null, Other;Never; Matplotlib ;I do not use machine learning methods;;;Academics/Education;1000-9,999 employees;0;I do not know;null, None of these activities are an important part of my role at work;$0-999;$0 ($USD);MySQL , MongoDB ;MySQL ;null, None;;Basic statistical software (Microsoft Excel, Google Sheets, etc.)\\n',\n",
    " '3;Mexico;Doctoral degree;Research Scientist;20+ years;Python;Python;null,   Spyder  ,  Jupyter Notebook;A cloud computing platform (AWS, Azure, GCP, hosted notebooks, etc); NVIDIA GPUs ;More than 25 times; Matplotlib ;5-10 years;  Scikit-learn ,   TensorFlow ,  Keras ;null, Dense Neural Networks (MLPs, etc), Convolutional Neural Networks, Recurrent Neural Networks;Academics/Education;1000-9,999 employees;0;I do not know;null, Do research that advances the state of the art of machine learning;30,000-39,999;$0 ($USD);;;;;Local development environments (RStudio, JupyterLab, etc.)\\n',\n",
    "\n",
    "\n",
    "> Recomendación: Aprender a tratar los datos de algunos de los elementos de la lista, antes de intentar aplicarlo a todos los datos del fichero txt.\n",
    " - Primer elemento de la lista:\n",
    "    lista[0] = 'index_sql;Q3;Q4;Q5;Q6;Q7;Q8;Q9;Q11;Q12;Q13;Q14;Q15;Q16;Q17;Q20;Q21;Q22;Q23;Q24;Q25;Q26;Q32;Q33;Q34;Q35;Q41\\n'"
   ]
  },
  {
   "cell_type": "code",
   "execution_count": 3,
   "metadata": {},
   "outputs": [],
   "source": [
    "\n",
    "with open('data_txt.txt','r') as file:\n",
    "    file_source = file.readlines() \n",
    "    # Es una lista que cada línea del fichero txt como un string de todos los datos.\n",
    "    \n"
   ]
  },
  {
   "cell_type": "code",
   "execution_count": 1,
   "metadata": {},
   "outputs": [
    {
     "data": {
      "text/plain": [
       "'#Vemos el elmento file_source para analizar el contenido\\nfile_source'"
      ]
     },
     "execution_count": 1,
     "metadata": {},
     "output_type": "execute_result"
    }
   ],
   "source": [
    "'''#Vemos el elmento file_source para analizar el contenido\n",
    "file_source'''"
   ]
  },
  {
   "cell_type": "code",
   "execution_count": 4,
   "metadata": {},
   "outputs": [
    {
     "data": {
      "text/plain": [
       "'index_sql;Q3;Q4;Q5;Q6;Q7;Q8;Q9;Q11;Q12;Q13;Q14;Q15;Q16;Q17;Q20;Q21;Q22;Q23;Q24;Q25;Q26;Q32;Q33;Q34;Q35;Q41'"
      ]
     },
     "execution_count": 4,
     "metadata": {},
     "output_type": "execute_result"
    }
   ],
   "source": [
    "# Para quitar los espacios iniciales y finales y los \\n probamos a hacer un .strip() del elemento 0\n",
    "file_source[0].strip()"
   ]
  },
  {
   "cell_type": "code",
   "execution_count": 5,
   "metadata": {},
   "outputs": [],
   "source": [
    "#Definimos la variable lista vacía y hacemos un for loop para cada elemento de la file_source elimina espacios con el .strip() y se guarda en la variable elemento \n",
    "# Cada elemento se va appendeando a la lista vacía de nuevo.\n",
    "lista = []\n",
    "\n",
    "\n",
    "for file in file_source:\n",
    "    elemento = file.strip()\n",
    "    lista.append(elemento)\n",
    "    \n",
    "    \n",
    "#lista"
   ]
  },
  {
   "cell_type": "code",
   "execution_count": 6,
   "metadata": {},
   "outputs": [],
   "source": [
    "#Creamos otra lista listanull vacía y hacemos un for loop para cada elemento de la lista de la celda anterior(con espacios ya eliminados) para cambiar con .replace(,) null por 'NULL' y se guarda en la variable elemento \n",
    "# Cada elemento se va appendeando a la listanull.\n",
    "\n",
    "listanull = []\n",
    "\n",
    "\n",
    "for file in lista:\n",
    "    elemento = file.replace('null','NULL')\n",
    "    listanull.append(elemento)\n",
    "    \n",
    "    \n",
    "#listanull                                                                 "
   ]
  },
  {
   "cell_type": "code",
   "execution_count": 8,
   "metadata": {},
   "outputs": [
    {
     "data": {
      "text/plain": [
       "\" sublista = []\\ni = 0 \\nseparado = lista[1].split(',')\\n\\nfor s in separado:\\n    subelemento = separado[i].strip()\\n    sublista.append(subelemento)\\n    i+=1\\n\\nsublista = ','.join(sublista)\\n\\nsublista \""
      ]
     },
     "execution_count": 8,
     "metadata": {},
     "output_type": "execute_result"
    }
   ],
   "source": [
    "#DE MOMENTO NO PROFUNDIZAMOS EN EL BONUS DE ELIMINAR ALGUNOS ESPACIOS EXTRA\n",
    "#Como el .strip() solo elimina espacios al comienzo y al final probamos con el indice 1 de nuestra lista a separar cada strip por las comas y eliminar los espacios al inicio\n",
    "# y final de cada strip y luego volverlo a unir en la variable sublista de nuevo\n",
    "\n",
    "''' sublista = []\n",
    "i = 0 \n",
    "separado = lista[1].split(',')\n",
    "\n",
    "for s in separado:\n",
    "    subelemento = separado[i].strip()\n",
    "    sublista.append(subelemento)\n",
    "    i+=1\n",
    "\n",
    "sublista = ','.join(sublista)\n",
    "\n",
    "sublista '''"
   ]
  },
  {
   "cell_type": "code",
   "execution_count": 2,
   "metadata": {},
   "outputs": [],
   "source": [
    "'''lista = []\n",
    "for file in file_source[1:]:\n",
    "    elemento = file.strip().split(',')\n",
    "    lista.append(elemento)'''"
   ]
  },
  {
   "cell_type": "code",
   "execution_count": 9,
   "metadata": {},
   "outputs": [
    {
     "data": {
      "text/plain": [
       "'lista[0]'"
      ]
     },
     "execution_count": 9,
     "metadata": {},
     "output_type": "execute_result"
    }
   ],
   "source": [
    "'''lista[0]'''"
   ]
  },
  {
   "cell_type": "code",
   "execution_count": null,
   "metadata": {},
   "outputs": [],
   "source": [
    "#DE MOMENTO NO SEGUIMOS CON EL BONUS, AQUÍ YA ESTARÍAMOS DENTRO DE LA LISTA DE LISTAS PARA PODER QUITAR LOS ESPACIOS EXTRAS\n",
    "'''for subfile in lista:\n",
    "    for palabra in subfile:\n",
    "        print(palabra)\n",
    "        palabra = palabra.strip()\n",
    "        break\n",
    "        subelemento = su '''"
   ]
  },
  {
   "cell_type": "code",
   "execution_count": 10,
   "metadata": {},
   "outputs": [
    {
     "data": {
      "text/plain": [
       "\"lista = []\\nsublista = []\\ni = 0\\ne = 0\\n\\nfor file in file_source[1:]:\\n    elemento = file.strip().split(',')\\n    lista.append(elemento)\\n    i+=1\\n    for subfile in lista:\\n        print(subfile)\\n        print(len(subfile))\\n        for palabra in subfile:\\n            print(palabra)\\n            break\\n        #subelemento = subfile.strip()\\n        #sublista.append(subelemento)\\n        #e+=1\\n\\nsublista = ','.join(sublista)\""
      ]
     },
     "execution_count": 10,
     "metadata": {},
     "output_type": "execute_result"
    }
   ],
   "source": [
    "# Intenamos unir ambos for loops y directamente hacer la separación por comas en el primero y hacer un for loop anidado para quitar los espacios por elementos dentro de lista\n",
    "'''lista = []\n",
    "sublista = []\n",
    "i = 0\n",
    "e = 0\n",
    "\n",
    "for file in file_source[1:]:\n",
    "    elemento = file.strip().split(',')\n",
    "    lista.append(elemento)\n",
    "    i+=1\n",
    "    for subfile in lista:\n",
    "        print(subfile)\n",
    "        print(len(subfile))\n",
    "        for palabra in subfile:\n",
    "            print(palabra)\n",
    "            break\n",
    "        #subelemento = subfile.strip()\n",
    "        #sublista.append(subelemento)\n",
    "        #e+=1\n",
    "\n",
    "sublista = ','.join(sublista)'''"
   ]
  }
 ],
 "metadata": {
  "kernelspec": {
   "display_name": "Python 3.9.7 ('base')",
   "language": "python",
   "name": "python3"
  },
  "language_info": {
   "codemirror_mode": {
    "name": "ipython",
    "version": 3
   },
   "file_extension": ".py",
   "mimetype": "text/x-python",
   "name": "python",
   "nbconvert_exporter": "python",
   "pygments_lexer": "ipython3",
   "version": "3.9.7"
  },
  "orig_nbformat": 4,
  "vscode": {
   "interpreter": {
    "hash": "819a5c43c1fad9e35c5b1180124e231b422fc24c453463d400a90e0aae1b9c8c"
   }
  }
 },
 "nbformat": 4,
 "nbformat_minor": 2
}
